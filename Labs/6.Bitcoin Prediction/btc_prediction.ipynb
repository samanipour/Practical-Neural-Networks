{
 "cells": [
  {
   "cell_type": "code",
   "execution_count": 521,
   "metadata": {},
   "outputs": [],
   "source": [
    "import pandas as pd\n",
    "import seaborn as sns\n",
    "import numpy as np\n",
    "%matplotlib inline\n",
    "from sklearn.model_selection import train_test_split\n",
    "from sklearn.preprocessing import LabelEncoder, OneHotEncoder"
   ]
  },
  {
   "cell_type": "code",
   "execution_count": 522,
   "metadata": {},
   "outputs": [],
   "source": [
    "df  = pd.read_csv(\"Bitcoin Historical Data2024.csv\")"
   ]
  },
  {
   "cell_type": "code",
   "execution_count": 523,
   "metadata": {},
   "outputs": [
    {
     "name": "stdout",
     "output_type": "stream",
     "text": [
      "Shape of the Dataset: (311, 7)\n"
     ]
    },
    {
     "data": {
      "text/html": [
       "<div>\n",
       "<style scoped>\n",
       "    .dataframe tbody tr th:only-of-type {\n",
       "        vertical-align: middle;\n",
       "    }\n",
       "\n",
       "    .dataframe tbody tr th {\n",
       "        vertical-align: top;\n",
       "    }\n",
       "\n",
       "    .dataframe thead th {\n",
       "        text-align: right;\n",
       "    }\n",
       "</style>\n",
       "<table border=\"1\" class=\"dataframe\">\n",
       "  <thead>\n",
       "    <tr style=\"text-align: right;\">\n",
       "      <th></th>\n",
       "      <th>Date</th>\n",
       "      <th>Price</th>\n",
       "      <th>Open</th>\n",
       "      <th>High</th>\n",
       "      <th>Low</th>\n",
       "      <th>Vol.</th>\n",
       "      <th>Change %</th>\n",
       "    </tr>\n",
       "  </thead>\n",
       "  <tbody>\n",
       "    <tr>\n",
       "      <th>0</th>\n",
       "      <td>11/06/2024</td>\n",
       "      <td>75,587.2</td>\n",
       "      <td>69,374.1</td>\n",
       "      <td>76,007.7</td>\n",
       "      <td>69,323.0</td>\n",
       "      <td>340.97K</td>\n",
       "      <td>8.96%</td>\n",
       "    </tr>\n",
       "    <tr>\n",
       "      <th>1</th>\n",
       "      <td>11/05/2024</td>\n",
       "      <td>69,373.7</td>\n",
       "      <td>67,848.3</td>\n",
       "      <td>70,495.6</td>\n",
       "      <td>67,473.6</td>\n",
       "      <td>108.95K</td>\n",
       "      <td>2.25%</td>\n",
       "    </tr>\n",
       "    <tr>\n",
       "      <th>2</th>\n",
       "      <td>11/04/2024</td>\n",
       "      <td>67,848.8</td>\n",
       "      <td>68,770.3</td>\n",
       "      <td>69,483.4</td>\n",
       "      <td>66,834.0</td>\n",
       "      <td>101.31K</td>\n",
       "      <td>-1.34%</td>\n",
       "    </tr>\n",
       "    <tr>\n",
       "      <th>3</th>\n",
       "      <td>11/03/2024</td>\n",
       "      <td>68,769.6</td>\n",
       "      <td>69,334.8</td>\n",
       "      <td>69,383.6</td>\n",
       "      <td>67,514.2</td>\n",
       "      <td>83.16K</td>\n",
       "      <td>-0.80%</td>\n",
       "    </tr>\n",
       "    <tr>\n",
       "      <th>4</th>\n",
       "      <td>11/02/2024</td>\n",
       "      <td>69,325.8</td>\n",
       "      <td>69,499.3</td>\n",
       "      <td>69,896.9</td>\n",
       "      <td>69,029.0</td>\n",
       "      <td>38.72K</td>\n",
       "      <td>-0.26%</td>\n",
       "    </tr>\n",
       "  </tbody>\n",
       "</table>\n",
       "</div>"
      ],
      "text/plain": [
       "         Date     Price      Open      High       Low     Vol. Change %\n",
       "0  11/06/2024  75,587.2  69,374.1  76,007.7  69,323.0  340.97K    8.96%\n",
       "1  11/05/2024  69,373.7  67,848.3  70,495.6  67,473.6  108.95K    2.25%\n",
       "2  11/04/2024  67,848.8  68,770.3  69,483.4  66,834.0  101.31K   -1.34%\n",
       "3  11/03/2024  68,769.6  69,334.8  69,383.6  67,514.2   83.16K   -0.80%\n",
       "4  11/02/2024  69,325.8  69,499.3  69,896.9  69,029.0   38.72K   -0.26%"
      ]
     },
     "execution_count": 523,
     "metadata": {},
     "output_type": "execute_result"
    }
   ],
   "source": [
    "print(\"Shape of the Dataset:\",df.shape)\n",
    "#the head method displays the first 5 rows of the data\n",
    "df.head(5)  "
   ]
  },
  {
   "cell_type": "code",
   "execution_count": 524,
   "metadata": {},
   "outputs": [
    {
     "data": {
      "text/plain": [
       "Date        object\n",
       "Price       object\n",
       "Open        object\n",
       "High        object\n",
       "Low         object\n",
       "Vol.        object\n",
       "Change %    object\n",
       "dtype: object"
      ]
     },
     "execution_count": 524,
     "metadata": {},
     "output_type": "execute_result"
    }
   ],
   "source": [
    "df.dtypes"
   ]
  },
  {
   "cell_type": "code",
   "execution_count": 525,
   "metadata": {},
   "outputs": [
    {
     "name": "stdout",
     "output_type": "stream",
     "text": [
      "Shape of the Scrubbed: (311, 7)\n"
     ]
    },
    {
     "data": {
      "text/html": [
       "<div>\n",
       "<style scoped>\n",
       "    .dataframe tbody tr th:only-of-type {\n",
       "        vertical-align: middle;\n",
       "    }\n",
       "\n",
       "    .dataframe tbody tr th {\n",
       "        vertical-align: top;\n",
       "    }\n",
       "\n",
       "    .dataframe thead th {\n",
       "        text-align: right;\n",
       "    }\n",
       "</style>\n",
       "<table border=\"1\" class=\"dataframe\">\n",
       "  <thead>\n",
       "    <tr style=\"text-align: right;\">\n",
       "      <th></th>\n",
       "      <th>Date</th>\n",
       "      <th>Price</th>\n",
       "      <th>Open</th>\n",
       "      <th>High</th>\n",
       "      <th>Low</th>\n",
       "      <th>Vol.</th>\n",
       "      <th>Change %</th>\n",
       "    </tr>\n",
       "  </thead>\n",
       "  <tbody>\n",
       "    <tr>\n",
       "      <th>0</th>\n",
       "      <td>11/06/2024</td>\n",
       "      <td>75,587.2</td>\n",
       "      <td>69,374.1</td>\n",
       "      <td>76,007.7</td>\n",
       "      <td>69,323.0</td>\n",
       "      <td>340.97K</td>\n",
       "      <td>8.96%</td>\n",
       "    </tr>\n",
       "    <tr>\n",
       "      <th>1</th>\n",
       "      <td>11/05/2024</td>\n",
       "      <td>69,373.7</td>\n",
       "      <td>67,848.3</td>\n",
       "      <td>70,495.6</td>\n",
       "      <td>67,473.6</td>\n",
       "      <td>108.95K</td>\n",
       "      <td>2.25%</td>\n",
       "    </tr>\n",
       "    <tr>\n",
       "      <th>2</th>\n",
       "      <td>11/04/2024</td>\n",
       "      <td>67,848.8</td>\n",
       "      <td>68,770.3</td>\n",
       "      <td>69,483.4</td>\n",
       "      <td>66,834.0</td>\n",
       "      <td>101.31K</td>\n",
       "      <td>-1.34%</td>\n",
       "    </tr>\n",
       "    <tr>\n",
       "      <th>3</th>\n",
       "      <td>11/03/2024</td>\n",
       "      <td>68,769.6</td>\n",
       "      <td>69,334.8</td>\n",
       "      <td>69,383.6</td>\n",
       "      <td>67,514.2</td>\n",
       "      <td>83.16K</td>\n",
       "      <td>-0.80%</td>\n",
       "    </tr>\n",
       "    <tr>\n",
       "      <th>4</th>\n",
       "      <td>11/02/2024</td>\n",
       "      <td>69,325.8</td>\n",
       "      <td>69,499.3</td>\n",
       "      <td>69,896.9</td>\n",
       "      <td>69,029.0</td>\n",
       "      <td>38.72K</td>\n",
       "      <td>-0.26%</td>\n",
       "    </tr>\n",
       "  </tbody>\n",
       "</table>\n",
       "</div>"
      ],
      "text/plain": [
       "         Date     Price      Open      High       Low     Vol. Change %\n",
       "0  11/06/2024  75,587.2  69,374.1  76,007.7  69,323.0  340.97K    8.96%\n",
       "1  11/05/2024  69,373.7  67,848.3  70,495.6  67,473.6  108.95K    2.25%\n",
       "2  11/04/2024  67,848.8  68,770.3  69,483.4  66,834.0  101.31K   -1.34%\n",
       "3  11/03/2024  68,769.6  69,334.8  69,383.6  67,514.2   83.16K   -0.80%\n",
       "4  11/02/2024  69,325.8  69,499.3  69,896.9  69,029.0   38.72K   -0.26%"
      ]
     },
     "execution_count": 525,
     "metadata": {},
     "output_type": "execute_result"
    }
   ],
   "source": [
    "scrubbed_df = df.copy()\n",
    "scrubbed_df.dtypes\n",
    "print(\"Shape of the Scrubbed:\",scrubbed_df.shape)\n",
    "#the head method displays the first 5 rows of the data\n",
    "scrubbed_df.head(5)  "
   ]
  },
  {
   "cell_type": "code",
   "execution_count": 526,
   "metadata": {},
   "outputs": [
    {
     "name": "stdout",
     "output_type": "stream",
     "text": [
      "Shape of the Scrubbed: (311, 7)\n"
     ]
    },
    {
     "data": {
      "text/html": [
       "<div>\n",
       "<style scoped>\n",
       "    .dataframe tbody tr th:only-of-type {\n",
       "        vertical-align: middle;\n",
       "    }\n",
       "\n",
       "    .dataframe tbody tr th {\n",
       "        vertical-align: top;\n",
       "    }\n",
       "\n",
       "    .dataframe thead th {\n",
       "        text-align: right;\n",
       "    }\n",
       "</style>\n",
       "<table border=\"1\" class=\"dataframe\">\n",
       "  <thead>\n",
       "    <tr style=\"text-align: right;\">\n",
       "      <th></th>\n",
       "      <th>Date</th>\n",
       "      <th>Price</th>\n",
       "      <th>Open</th>\n",
       "      <th>High</th>\n",
       "      <th>Low</th>\n",
       "      <th>Vol.</th>\n",
       "      <th>Change %</th>\n",
       "    </tr>\n",
       "  </thead>\n",
       "  <tbody>\n",
       "    <tr>\n",
       "      <th>0</th>\n",
       "      <td>2024-11-06</td>\n",
       "      <td>75,587.2</td>\n",
       "      <td>69,374.1</td>\n",
       "      <td>76,007.7</td>\n",
       "      <td>69,323.0</td>\n",
       "      <td>340.97K</td>\n",
       "      <td>8.96%</td>\n",
       "    </tr>\n",
       "    <tr>\n",
       "      <th>1</th>\n",
       "      <td>2024-11-05</td>\n",
       "      <td>69,373.7</td>\n",
       "      <td>67,848.3</td>\n",
       "      <td>70,495.6</td>\n",
       "      <td>67,473.6</td>\n",
       "      <td>108.95K</td>\n",
       "      <td>2.25%</td>\n",
       "    </tr>\n",
       "    <tr>\n",
       "      <th>2</th>\n",
       "      <td>2024-11-04</td>\n",
       "      <td>67,848.8</td>\n",
       "      <td>68,770.3</td>\n",
       "      <td>69,483.4</td>\n",
       "      <td>66,834.0</td>\n",
       "      <td>101.31K</td>\n",
       "      <td>-1.34%</td>\n",
       "    </tr>\n",
       "    <tr>\n",
       "      <th>3</th>\n",
       "      <td>2024-11-03</td>\n",
       "      <td>68,769.6</td>\n",
       "      <td>69,334.8</td>\n",
       "      <td>69,383.6</td>\n",
       "      <td>67,514.2</td>\n",
       "      <td>83.16K</td>\n",
       "      <td>-0.80%</td>\n",
       "    </tr>\n",
       "    <tr>\n",
       "      <th>4</th>\n",
       "      <td>2024-11-02</td>\n",
       "      <td>69,325.8</td>\n",
       "      <td>69,499.3</td>\n",
       "      <td>69,896.9</td>\n",
       "      <td>69,029.0</td>\n",
       "      <td>38.72K</td>\n",
       "      <td>-0.26%</td>\n",
       "    </tr>\n",
       "  </tbody>\n",
       "</table>\n",
       "</div>"
      ],
      "text/plain": [
       "        Date     Price      Open      High       Low     Vol. Change %\n",
       "0 2024-11-06  75,587.2  69,374.1  76,007.7  69,323.0  340.97K    8.96%\n",
       "1 2024-11-05  69,373.7  67,848.3  70,495.6  67,473.6  108.95K    2.25%\n",
       "2 2024-11-04  67,848.8  68,770.3  69,483.4  66,834.0  101.31K   -1.34%\n",
       "3 2024-11-03  68,769.6  69,334.8  69,383.6  67,514.2   83.16K   -0.80%\n",
       "4 2024-11-02  69,325.8  69,499.3  69,896.9  69,029.0   38.72K   -0.26%"
      ]
     },
     "execution_count": 526,
     "metadata": {},
     "output_type": "execute_result"
    }
   ],
   "source": [
    "scrubbed_df[\"Date\"] = pd.to_datetime(scrubbed_df[\"Date\"])\n",
    "print(\"Shape of the Scrubbed:\",scrubbed_df.shape)\n",
    "#the head method displays the first 5 rows of the data\n",
    "scrubbed_df.head(5)  "
   ]
  },
  {
   "cell_type": "code",
   "execution_count": 527,
   "metadata": {},
   "outputs": [
    {
     "name": "stdout",
     "output_type": "stream",
     "text": [
      "        Date     Price      Open      High       Low     Vol. Change %  \\\n",
      "0 2024-11-06  75,587.2  69,374.1  76,007.7  69,323.0  340.97K    8.96%   \n",
      "1 2024-11-05  69,373.7  67,848.3  70,495.6  67,473.6  108.95K    2.25%   \n",
      "2 2024-11-04  67,848.8  68,770.3  69,483.4  66,834.0  101.31K   -1.34%   \n",
      "3 2024-11-03  68,769.6  69,334.8  69,383.6  67,514.2   83.16K   -0.80%   \n",
      "4 2024-11-02  69,325.8  69,499.3  69,896.9  69,029.0   38.72K   -0.26%   \n",
      "\n",
      "   YearDay  MonthDay  WeekDay  \n",
      "0      311         6        2  \n",
      "1      310         5        1  \n",
      "2      309         4        0  \n",
      "3      308         3        6  \n",
      "4      307         2        5  \n"
     ]
    }
   ],
   "source": [
    "scrubbed_df[\"YearDay\"] = scrubbed_df[\"Date\"].dt.day_of_year\n",
    "scrubbed_df[\"MonthDay\"] = scrubbed_df[\"Date\"].dt.day\n",
    "scrubbed_df[\"WeekDay\"] = scrubbed_df[\"Date\"].dt.weekday\n",
    "\n",
    "\n",
    "#Using the head command to view (only) the data and the newly engineered features\n",
    "print(scrubbed_df.head())"
   ]
  },
  {
   "cell_type": "code",
   "execution_count": 528,
   "metadata": {},
   "outputs": [
    {
     "name": "stdout",
     "output_type": "stream",
     "text": [
      "        Date    Price     Open      High       Low     Vol. Change %  YearDay  \\\n",
      "0 2024-11-06  75587.2  69374.1  76,007.7  69,323.0  340.97K    8.96%      311   \n",
      "1 2024-11-05  69373.7  67848.3  70,495.6  67,473.6  108.95K    2.25%      310   \n",
      "2 2024-11-04  67848.8  68770.3  69,483.4  66,834.0  101.31K   -1.34%      309   \n",
      "3 2024-11-03  68769.6  69334.8  69,383.6  67,514.2   83.16K   -0.80%      308   \n",
      "4 2024-11-02  69325.8  69499.3  69,896.9  69,029.0   38.72K   -0.26%      307   \n",
      "\n",
      "   MonthDay  WeekDay  \n",
      "0         6        2  \n",
      "1         5        1  \n",
      "2         4        0  \n",
      "3         3        6  \n",
      "4         2        5  \n"
     ]
    }
   ],
   "source": [
    "scrubbed_df[\"Price\"] = scrubbed_df[\"Price\"].str.replace(\",\",\"\")\n",
    "scrubbed_df[\"Open\"]  = scrubbed_df[\"Open\"].str.replace(\",\",\"\")\n",
    "print(scrubbed_df.head())"
   ]
  },
  {
   "cell_type": "code",
   "execution_count": 529,
   "metadata": {},
   "outputs": [
    {
     "name": "stdout",
     "output_type": "stream",
     "text": [
      "        Date    Price     Open      High       Low     Vol. Change %  YearDay  \\\n",
      "0 2024-11-06  75587.2  69374.1  76,007.7  69,323.0  340.97K    8.96%      311   \n",
      "1 2024-11-05  69373.7  67848.3  70,495.6  67,473.6  108.95K    2.25%      310   \n",
      "2 2024-11-04  67848.8  68770.3  69,483.4  66,834.0  101.31K   -1.34%      309   \n",
      "3 2024-11-03  68769.6  69334.8  69,383.6  67,514.2   83.16K   -0.80%      308   \n",
      "4 2024-11-02  69325.8  69499.3  69,896.9  69,029.0   38.72K   -0.26%      307   \n",
      "\n",
      "   MonthDay  WeekDay  Mean Price  \n",
      "0         6        2    72480.65  \n",
      "1         5        1    68611.00  \n",
      "2         4        0    68309.55  \n",
      "3         3        6    69052.20  \n",
      "4         2        5    69412.55  \n"
     ]
    }
   ],
   "source": [
    "scrubbed_df[\"Price\"] = pd.to_numeric(scrubbed_df[\"Price\"])\n",
    "scrubbed_df[\"Open\"] = pd.to_numeric(scrubbed_df[\"Open\"])\n",
    "scrubbed_df[\"Mean Price\"] = scrubbed_df[[\"Price\",\"Open\"]].mean(axis=1)\n",
    "print(scrubbed_df.head())"
   ]
  },
  {
   "cell_type": "code",
   "execution_count": 530,
   "metadata": {},
   "outputs": [
    {
     "name": "stdout",
     "output_type": "stream",
     "text": [
      "   YearDay  MonthDay  WeekDay  Mean Price\n",
      "0      311         6        2    72480.65\n",
      "1      310         5        1    68611.00\n",
      "2      309         4        0    68309.55\n",
      "3      308         3        6    69052.20\n",
      "4      307         2        5    69412.55\n"
     ]
    }
   ],
   "source": [
    "scrubbed_df.drop([\"Date\",\"Price\",\"Open\",\"High\",\"Low\",\"Vol.\",\"Change %\"],axis=1,inplace=True)\n",
    "print(scrubbed_df.head())"
   ]
  },
  {
   "cell_type": "code",
   "execution_count": 531,
   "metadata": {},
   "outputs": [
    {
     "name": "stdout",
     "output_type": "stream",
     "text": [
      "         MonthDay  WeekDay  Mean Price\n",
      "YearDay                               \n",
      "1               1        0    43227.95\n",
      "2               2        1    44563.30\n",
      "3               3        2    43889.90\n",
      "4               4        3    43496.55\n",
      "5               5        4    44159.95\n",
      "...           ...      ...         ...\n",
      "96              5        4    68164.65\n",
      "97              6        5    68360.55\n",
      "98              7        6    69128.85\n",
      "99              8        0    70494.05\n",
      "100             9        1    70387.65\n",
      "\n",
      "[100 rows x 3 columns]\n"
     ]
    }
   ],
   "source": [
    "scrubbed_df.set_index('YearDay', inplace=True)\n",
    "scrubbed_df.sort_index(inplace=True)\n",
    "# scrubbed_df.sort_values(by=['YearDay'],ascending=False,inplace=True)\n",
    "print(scrubbed_df.head(100))"
   ]
  },
  {
   "cell_type": "code",
   "execution_count": 532,
   "metadata": {},
   "outputs": [],
   "source": [
    "x = scrubbed_df[[\"MonthDay\",\"WeekDay\"]]\n",
    "y = scrubbed_df[['Mean Price']]"
   ]
  },
  {
   "cell_type": "code",
   "execution_count": 533,
   "metadata": {},
   "outputs": [
    {
     "data": {
      "text/plain": [
       "MonthDay    int32\n",
       "WeekDay     int32\n",
       "dtype: object"
      ]
     },
     "execution_count": 533,
     "metadata": {},
     "output_type": "execute_result"
    }
   ],
   "source": [
    "x.head()\n",
    "# x.shape\n",
    "x.dtypes"
   ]
  },
  {
   "cell_type": "code",
   "execution_count": 534,
   "metadata": {},
   "outputs": [
    {
     "data": {
      "text/plain": [
       "Mean Price    float64\n",
       "dtype: object"
      ]
     },
     "execution_count": 534,
     "metadata": {},
     "output_type": "execute_result"
    }
   ],
   "source": [
    "y.head()\n",
    "# y.shape\n",
    "y.dtypes"
   ]
  },
  {
   "cell_type": "code",
   "execution_count": 535,
   "metadata": {},
   "outputs": [],
   "source": [
    "from sklearn.model_selection import TimeSeriesSplit\n",
    "tss = TimeSeriesSplit(n_splits = 3)"
   ]
  },
  {
   "cell_type": "code",
   "execution_count": 536,
   "metadata": {},
   "outputs": [
    {
     "data": {
      "text/plain": [
       "<bound method _BaseKFold.get_n_splits of TimeSeriesSplit(gap=0, max_train_size=None, n_splits=3, test_size=None)>"
      ]
     },
     "execution_count": 536,
     "metadata": {},
     "output_type": "execute_result"
    }
   ],
   "source": [
    "tss.get_n_splits"
   ]
  },
  {
   "cell_type": "code",
   "execution_count": 537,
   "metadata": {},
   "outputs": [],
   "source": [
    "for train_index, test_index in tss.split(x):\n",
    "    x_train, x_test = x.iloc[train_index, :], x.iloc[test_index,:]\n",
    "    y_train, y_test = y.iloc[train_index], y.iloc[test_index]"
   ]
  },
  {
   "cell_type": "code",
   "execution_count": 538,
   "metadata": {},
   "outputs": [
    {
     "data": {
      "text/plain": [
       "Index([  1,   2,   3,   4,   5,   6,   7,   8,   9,  10,\n",
       "       ...\n",
       "       225, 226, 227, 228, 229, 230, 231, 232, 233, 234],\n",
       "      dtype='int32', name='YearDay', length=234)"
      ]
     },
     "execution_count": 538,
     "metadata": {},
     "output_type": "execute_result"
    }
   ],
   "source": [
    "x_train.index"
   ]
  },
  {
   "cell_type": "code",
   "execution_count": 539,
   "metadata": {},
   "outputs": [
    {
     "data": {
      "text/plain": [
       "Index([235, 236, 237, 238, 239, 240, 241, 242, 243, 244, 245, 246, 247, 248,\n",
       "       249, 250, 251, 252, 253, 254, 255, 256, 257, 258, 259, 260, 261, 262,\n",
       "       263, 264, 265, 266, 267, 268, 269, 270, 271, 272, 273, 274, 275, 276,\n",
       "       277, 278, 279, 280, 281, 282, 283, 284, 285, 286, 287, 288, 289, 290,\n",
       "       291, 292, 293, 294, 295, 296, 297, 298, 299, 300, 301, 302, 303, 304,\n",
       "       305, 306, 307, 308, 309, 310, 311],\n",
       "      dtype='int32', name='YearDay')"
      ]
     },
     "execution_count": 539,
     "metadata": {},
     "output_type": "execute_result"
    }
   ],
   "source": [
    "x_test.index"
   ]
  },
  {
   "cell_type": "code",
   "execution_count": 540,
   "metadata": {},
   "outputs": [
    {
     "data": {
      "text/plain": [
       "<Axes: xlabel='YearDay'>"
      ]
     },
     "execution_count": 540,
     "metadata": {},
     "output_type": "execute_result"
    },
    {
     "data": {
      "image/png": "[encoded data removed]",
      "text/plain": [
       "<Figure size 640x480 with 1 Axes>"
      ]
     },
     "metadata": {},
     "output_type": "display_data"
    }
   ],
   "source": [
    "def price2num(x):\n",
    "    if type(x) == str: \n",
    "        x = x.strip('$').replace(',', '')\n",
    "    return float(x)#function to convert price from string to floats\n",
    "y_train_val=y_train[\"Mean Price\"].apply(price2num)\n",
    "y_train_val.groupby('YearDay').mean().plot()\n",
    "y_test_val=y_test[\"Mean Price\"].apply(price2num)\n",
    "y_test_val.groupby('YearDay').mean().plot()"
   ]
  },
  {
   "cell_type": "code",
   "execution_count": 541,
   "metadata": {},
   "outputs": [
    {
     "data": {
      "text/plain": [
       "MonthDay        int32\n",
       "WeekDay         int32\n",
       "Mean Price    float64\n",
       "dtype: object"
      ]
     },
     "execution_count": 541,
     "metadata": {},
     "output_type": "execute_result"
    }
   ],
   "source": [
    "scrubbed_df.dtypes"
   ]
  },
  {
   "cell_type": "code",
   "execution_count": 542,
   "metadata": {},
   "outputs": [
    {
     "data": {
      "text/plain": [
       "(234, 2)"
      ]
     },
     "execution_count": 542,
     "metadata": {},
     "output_type": "execute_result"
    }
   ],
   "source": [
    "x_train.shape"
   ]
  },
  {
   "cell_type": "code",
   "execution_count": 543,
   "metadata": {},
   "outputs": [
    {
     "data": {
      "text/plain": [
       "(234, 1)"
      ]
     },
     "execution_count": 543,
     "metadata": {},
     "output_type": "execute_result"
    }
   ],
   "source": [
    "y_train.shape"
   ]
  },
  {
   "cell_type": "code",
   "execution_count": 544,
   "metadata": {},
   "outputs": [
    {
     "name": "stdout",
     "output_type": "stream",
     "text": [
      "Shape of x_train: (234, 2)\n",
      "Shape of x_test: (77, 2)\n",
      "Shape of y_train: (234, 1)\n",
      "Shape of y_test: (77, 1)\n"
     ]
    }
   ],
   "source": [
    "# #Create train and test dataset with an 80:20 split\n",
    "# x_train, x_test, y_train, y_test = train_test_split(scrubbed_df[[\"Month\",\"Quarter\",\"Day\",\"WeekDay\"]],scrubbed_df[[\"Mean Price\"]],test_size=0.2,random_state=2018)\n",
    "# #Further divide training dataset into train and validation dataset with an 90:10 split\n",
    "# x_train, x_val, y_train, y_val = train_test_split(x_train,y_train,test_size=0.1,random_state=2018)\n",
    "\n",
    "#Check the sizes of all newly created datasets\n",
    "print(\"Shape of x_train:\",x_train.shape)\n",
    "# print(\"Shape of x_val:\",x_val.shape)\n",
    "print(\"Shape of x_test:\",x_test.shape)\n",
    "print(\"Shape of y_train:\",y_train.shape)\n",
    "# print(\"Shape of y_val:\",y_val.shape)\n",
    "print(\"Shape of y_test:\",y_test.shape)"
   ]
  },
  {
   "cell_type": "code",
   "execution_count": 545,
   "metadata": {},
   "outputs": [
    {
     "data": {
      "text/html": [
       "<div>\n",
       "<style scoped>\n",
       "    .dataframe tbody tr th:only-of-type {\n",
       "        vertical-align: middle;\n",
       "    }\n",
       "\n",
       "    .dataframe tbody tr th {\n",
       "        vertical-align: top;\n",
       "    }\n",
       "\n",
       "    .dataframe thead th {\n",
       "        text-align: right;\n",
       "    }\n",
       "</style>\n",
       "<table border=\"1\" class=\"dataframe\">\n",
       "  <thead>\n",
       "    <tr style=\"text-align: right;\">\n",
       "      <th></th>\n",
       "      <th>MonthDay</th>\n",
       "      <th>WeekDay</th>\n",
       "    </tr>\n",
       "    <tr>\n",
       "      <th>YearDay</th>\n",
       "      <th></th>\n",
       "      <th></th>\n",
       "    </tr>\n",
       "  </thead>\n",
       "  <tbody>\n",
       "    <tr>\n",
       "      <th>1</th>\n",
       "      <td>1</td>\n",
       "      <td>0</td>\n",
       "    </tr>\n",
       "    <tr>\n",
       "      <th>2</th>\n",
       "      <td>2</td>\n",
       "      <td>1</td>\n",
       "    </tr>\n",
       "    <tr>\n",
       "      <th>3</th>\n",
       "      <td>3</td>\n",
       "      <td>2</td>\n",
       "    </tr>\n",
       "    <tr>\n",
       "      <th>4</th>\n",
       "      <td>4</td>\n",
       "      <td>3</td>\n",
       "    </tr>\n",
       "    <tr>\n",
       "      <th>5</th>\n",
       "      <td>5</td>\n",
       "      <td>4</td>\n",
       "    </tr>\n",
       "  </tbody>\n",
       "</table>\n",
       "</div>"
      ],
      "text/plain": [
       "         MonthDay  WeekDay\n",
       "YearDay                   \n",
       "1               1        0\n",
       "2               2        1\n",
       "3               3        2\n",
       "4               4        3\n",
       "5               5        4"
      ]
     },
     "execution_count": 545,
     "metadata": {},
     "output_type": "execute_result"
    }
   ],
   "source": [
    "x_train.head()\n"
   ]
  },
  {
   "cell_type": "code",
   "execution_count": 546,
   "metadata": {},
   "outputs": [
    {
     "data": {
      "text/html": [
       "<div>\n",
       "<style scoped>\n",
       "    .dataframe tbody tr th:only-of-type {\n",
       "        vertical-align: middle;\n",
       "    }\n",
       "\n",
       "    .dataframe tbody tr th {\n",
       "        vertical-align: top;\n",
       "    }\n",
       "\n",
       "    .dataframe thead th {\n",
       "        text-align: right;\n",
       "    }\n",
       "</style>\n",
       "<table border=\"1\" class=\"dataframe\">\n",
       "  <thead>\n",
       "    <tr style=\"text-align: right;\">\n",
       "      <th></th>\n",
       "      <th>Mean Price</th>\n",
       "    </tr>\n",
       "    <tr>\n",
       "      <th>YearDay</th>\n",
       "      <th></th>\n",
       "    </tr>\n",
       "  </thead>\n",
       "  <tbody>\n",
       "    <tr>\n",
       "      <th>1</th>\n",
       "      <td>43227.95</td>\n",
       "    </tr>\n",
       "    <tr>\n",
       "      <th>2</th>\n",
       "      <td>44563.30</td>\n",
       "    </tr>\n",
       "    <tr>\n",
       "      <th>3</th>\n",
       "      <td>43889.90</td>\n",
       "    </tr>\n",
       "    <tr>\n",
       "      <th>4</th>\n",
       "      <td>43496.55</td>\n",
       "    </tr>\n",
       "    <tr>\n",
       "      <th>5</th>\n",
       "      <td>44159.95</td>\n",
       "    </tr>\n",
       "  </tbody>\n",
       "</table>\n",
       "</div>"
      ],
      "text/plain": [
       "         Mean Price\n",
       "YearDay            \n",
       "1          43227.95\n",
       "2          44563.30\n",
       "3          43889.90\n",
       "4          43496.55\n",
       "5          44159.95"
      ]
     },
     "execution_count": 546,
     "metadata": {},
     "output_type": "execute_result"
    }
   ],
   "source": [
    "y_train.head()"
   ]
  },
  {
   "cell_type": "code",
   "execution_count": 550,
   "metadata": {},
   "outputs": [
    {
     "name": "stderr",
     "output_type": "stream",
     "text": [
      "C:\\Users\\Clone\\AppData\\Roaming\\Python\\Python312\\site-packages\\keras\\src\\layers\\core\\dense.py:87: UserWarning: Do not pass an `input_shape`/`input_dim` argument to a layer. When using Sequential models, prefer using an `Input(shape)` object as the first layer in the model instead.\n",
      "  super().__init__(activity_regularizer=activity_regularizer, **kwargs)\n"
     ]
    },
    {
     "name": "stdout",
     "output_type": "stream",
     "text": [
      "Epoch 1/15\n",
      "\u001b[1m24/24\u001b[0m \u001b[32m━━━━━━━━━━━━━━━━━━━━\u001b[0m\u001b[37m\u001b[0m \u001b[1m4s\u001b[0m 12ms/step - loss: 53453.6680 - mean_absolute_error: 53453.6680\n",
      "Epoch 2/15\n",
      "\u001b[1m24/24\u001b[0m \u001b[32m━━━━━━━━━━━━━━━━━━━━\u001b[0m\u001b[37m\u001b[0m \u001b[1m0s\u001b[0m 12ms/step - loss: 25037.1152 - mean_absolute_error: 25037.1152\n",
      "Epoch 3/15\n",
      "\u001b[1m24/24\u001b[0m \u001b[32m━━━━━━━━━━━━━━━━━━━━\u001b[0m\u001b[37m\u001b[0m \u001b[1m0s\u001b[0m 12ms/step - loss: 26243.1074 - mean_absolute_error: 26243.1074\n",
      "Epoch 4/15\n",
      "\u001b[1m24/24\u001b[0m \u001b[32m━━━━━━━━━━━━━━━━━━━━\u001b[0m\u001b[37m\u001b[0m \u001b[1m0s\u001b[0m 11ms/step - loss: 20744.7266 - mean_absolute_error: 20744.7266\n",
      "Epoch 5/15\n",
      "\u001b[1m24/24\u001b[0m \u001b[32m━━━━━━━━━━━━━━━━━━━━\u001b[0m\u001b[37m\u001b[0m \u001b[1m0s\u001b[0m 12ms/step - loss: 30635.6895 - mean_absolute_error: 30635.6895\n",
      "Epoch 6/15\n",
      "\u001b[1m24/24\u001b[0m \u001b[32m━━━━━━━━━━━━━━━━━━━━\u001b[0m\u001b[37m\u001b[0m \u001b[1m0s\u001b[0m 12ms/step - loss: 26610.9316 - mean_absolute_error: 26610.9316\n",
      "Epoch 7/15\n",
      "\u001b[1m24/24\u001b[0m \u001b[32m━━━━━━━━━━━━━━━━━━━━\u001b[0m\u001b[37m\u001b[0m \u001b[1m0s\u001b[0m 12ms/step - loss: 18764.2910 - mean_absolute_error: 18764.2910\n",
      "Epoch 8/15\n",
      "\u001b[1m24/24\u001b[0m \u001b[32m━━━━━━━━━━━━━━━━━━━━\u001b[0m\u001b[37m\u001b[0m \u001b[1m0s\u001b[0m 12ms/step - loss: 18129.3574 - mean_absolute_error: 18129.3574\n",
      "Epoch 9/15\n",
      "\u001b[1m24/24\u001b[0m \u001b[32m━━━━━━━━━━━━━━━━━━━━\u001b[0m\u001b[37m\u001b[0m \u001b[1m0s\u001b[0m 12ms/step - loss: 23087.8145 - mean_absolute_error: 23087.8125\n",
      "Epoch 10/15\n",
      "\u001b[1m24/24\u001b[0m \u001b[32m━━━━━━━━━━━━━━━━━━━━\u001b[0m\u001b[37m\u001b[0m \u001b[1m0s\u001b[0m 13ms/step - loss: 15774.5703 - mean_absolute_error: 15774.5703\n",
      "Epoch 11/15\n",
      "\u001b[1m24/24\u001b[0m \u001b[32m━━━━━━━━━━━━━━━━━━━━\u001b[0m\u001b[37m\u001b[0m \u001b[1m0s\u001b[0m 13ms/step - loss: 19345.0000 - mean_absolute_error: 19345.0000\n",
      "Epoch 12/15\n",
      "\u001b[1m24/24\u001b[0m \u001b[32m━━━━━━━━━━━━━━━━━━━━\u001b[0m\u001b[37m\u001b[0m \u001b[1m0s\u001b[0m 14ms/step - loss: 25080.9062 - mean_absolute_error: 25080.9062\n",
      "Epoch 13/15\n",
      "\u001b[1m24/24\u001b[0m \u001b[32m━━━━━━━━━━━━━━━━━━━━\u001b[0m\u001b[37m\u001b[0m \u001b[1m0s\u001b[0m 16ms/step - loss: 23211.1172 - mean_absolute_error: 23211.1172\n",
      "Epoch 14/15\n",
      "\u001b[1m24/24\u001b[0m \u001b[32m━━━━━━━━━━━━━━━━━━━━\u001b[0m\u001b[37m\u001b[0m \u001b[1m0s\u001b[0m 14ms/step - loss: 15887.5010 - mean_absolute_error: 15887.5010\n",
      "Epoch 15/15\n",
      "\u001b[1m24/24\u001b[0m \u001b[32m━━━━━━━━━━━━━━━━━━━━\u001b[0m\u001b[37m\u001b[0m \u001b[1m0s\u001b[0m 15ms/step - loss: 15769.6104 - mean_absolute_error: 15769.6104\n"
     ]
    },
    {
     "data": {
      "text/plain": [
       "<keras.src.callbacks.history.History at 0x2f7da2515b0>"
      ]
     },
     "execution_count": 550,
     "metadata": {},
     "output_type": "execute_result"
    }
   ],
   "source": [
    "#Create Deep Neural Network Architecture\n",
    "from keras import Sequential\n",
    "from keras.layers import Dense\n",
    "\n",
    "model = Sequential()\n",
    "model.add(Dense(350,input_dim = 2,activation=\"relu\"))\n",
    "model.add(Dense(350,activation=\"relu\"))\n",
    "model.add(Dense(350,activation=\"relu\"))\n",
    "model.add(Dense(350,activation=\"relu\"))\n",
    "model.add(Dense(350,activation=\"relu\"))\n",
    "model.add(Dense(350,activation=\"relu\"))\n",
    "model.add(Dense(350,activation=\"relu\"))\n",
    "model.add(Dense(350,activation=\"relu\"))\n",
    "model.add(Dense(350,activation=\"relu\"))\n",
    "model.add(Dense(350,activation=\"relu\"))\n",
    "model.add(Dense(350,activation=\"relu\"))\n",
    "model.add(Dense(350,activation=\"relu\"))\n",
    "model.add(Dense(350,activation=\"relu\"))\n",
    "\n",
    "model.add(Dense(1,activation = \"linear\"))\n",
    "\n",
    "#Configure the model\n",
    "model.compile(optimizer='adam', loss=\"mean_absolute_error\", \n",
    "metrics=[\"mean_absolute_error\"])\n",
    "\n",
    "#Train the model\n",
    "model.fit(x_train,y_train,epochs=15,batch_size=10)"
   ]
  },
  {
   "cell_type": "code",
   "execution_count": 551,
   "metadata": {},
   "outputs": [
    {
     "name": "stdout",
     "output_type": "stream",
     "text": [
      "\u001b[1m3/3\u001b[0m \u001b[32m━━━━━━━━━━━━━━━━━━━━\u001b[0m\u001b[37m\u001b[0m \u001b[1m0s\u001b[0m 96ms/step\n",
      "         Mean Price    Prediction\n",
      "YearDay                          \n",
      "235        60765.25  52505.890625\n",
      "236        62213.90  54211.722656\n",
      "237        64110.50  57991.484375\n",
      "238        64216.95  63190.054688\n",
      "239        63543.45  62459.738281\n",
      "240        61141.55  62209.738281\n",
      "241        59220.80  62508.464844\n",
      "242        59200.40  62997.445312\n",
      "243        59245.70  64093.992188\n",
      "244        59049.50  65674.007812\n"
     ]
    },
    {
     "name": "stderr",
     "output_type": "stream",
     "text": [
      "C:\\Users\\Clone\\AppData\\Local\\Temp\\ipykernel_2692\\195181267.py:2: SettingWithCopyWarning: \n",
      "A value is trying to be set on a copy of a slice from a DataFrame.\n",
      "Try using .loc[row_indexer,col_indexer] = value instead\n",
      "\n",
      "See the caveats in the documentation: https://pandas.pydata.org/pandas-docs/stable/user_guide/indexing.html#returning-a-view-versus-a-copy\n",
      "  y_test[\"Prediction\"] = model.predict(x_test)\n"
     ]
    }
   ],
   "source": [
    "#Manually predicting from the model, instead of using model's evaluate function\n",
    "y_test[\"Prediction\"] = model.predict(x_test)\n",
    "# y_test.columns = [\"Actual Price\",\"Predicted Price\"]\n",
    "print(y_test.head(10))"
   ]
  },
  {
   "cell_type": "code",
   "execution_count": 552,
   "metadata": {},
   "outputs": [
    {
     "data": {
      "image/png": "[encoded data removed]",
      "text/plain": [
       "<Figure size 1000x600 with 1 Axes>"
      ]
     },
     "metadata": {},
     "output_type": "display_data"
    }
   ],
   "source": [
    "import pandas as pd\n",
    "import matplotlib.pyplot as plt\n",
    "\n",
    "# Plotting the line plot\n",
    "plt.figure(figsize=(10, 6))\n",
    "plt.plot(y_test.index, y_test['Mean Price'], label='Actual Price', color='blue')\n",
    "plt.plot(y_test.index, y_test['Prediction'], label='Predicted Price', color='red')\n",
    "plt.xlabel('Index')\n",
    "plt.ylabel('Price')\n",
    "plt.title('Actual vs Predicted Price')\n",
    "plt.legend()\n",
    "plt.show()\n"
   ]
  },
  {
   "cell_type": "code",
   "execution_count": 313,
   "metadata": {},
   "outputs": [
    {
     "name": "stdout",
     "output_type": "stream",
     "text": [
      "\u001b[1m3/3\u001b[0m \u001b[32m━━━━━━━━━━━━━━━━━━━━\u001b[0m\u001b[37m\u001b[0m \u001b[1m0s\u001b[0m 4ms/step - loss: 30987.0156 - mean_absolute_error: 30987.0176 \n",
      "Metric  loss : 31611.58\n",
      "Metric  compile_metrics : 31611.58\n"
     ]
    }
   ],
   "source": [
    "#Use the model's evaluate method to predict and evaluate the test datasets\n",
    "result = model.evaluate(x_test,y_test)\n",
    "\n",
    "#Print the results\n",
    "for i in range(len(model.metrics_names)):\n",
    "    print(\"Metric \",model.metrics_names[i],\":\",str(round(result[i],2)))"
   ]
  }
 ],
 "metadata": {
  "kernelspec": {
   "display_name": "Python 3",
   "language": "python",
   "name": "python3"
  },
  "language_info": {
   "codemirror_mode": {
    "name": "ipython",
    "version": 3
   },
   "file_extension": ".py",
   "mimetype": "text/x-python",
   "name": "python",
   "nbconvert_exporter": "python",
   "pygments_lexer": "ipython3",
   "version": "3.12.5"
  }
 },
 "nbformat": 4,
 "nbformat_minor": 2
}
