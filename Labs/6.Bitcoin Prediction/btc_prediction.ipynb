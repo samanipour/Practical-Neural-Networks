{
 "cells": [
  {
   "cell_type": "code",
   "execution_count": 39,
   "metadata": {},
   "outputs": [],
   "source": [
    "import pandas as pd\n",
    "import seaborn as sns\n",
    "import numpy as np\n",
    "%matplotlib inline\n",
    "from sklearn.model_selection import train_test_split\n",
    "from sklearn.preprocessing import LabelEncoder, OneHotEncoder"
   ]
  },
  {
   "cell_type": "code",
   "execution_count": 40,
   "metadata": {},
   "outputs": [],
   "source": [
    "df  = pd.read_csv(\"Bitcoin Historical Data.csv\")"
   ]
  },
  {
   "cell_type": "code",
   "execution_count": 41,
   "metadata": {},
   "outputs": [
    {
     "name": "stdout",
     "output_type": "stream",
     "text": [
      "Shape of the Dataset: (4999, 7)\n"
     ]
    },
    {
     "data": {
      "text/html": [
       "<div>\n",
       "<style scoped>\n",
       "    .dataframe tbody tr th:only-of-type {\n",
       "        vertical-align: middle;\n",
       "    }\n",
       "\n",
       "    .dataframe tbody tr th {\n",
       "        vertical-align: top;\n",
       "    }\n",
       "\n",
       "    .dataframe thead th {\n",
       "        text-align: right;\n",
       "    }\n",
       "</style>\n",
       "<table border=\"1\" class=\"dataframe\">\n",
       "  <thead>\n",
       "    <tr style=\"text-align: right;\">\n",
       "      <th></th>\n",
       "      <th>Date</th>\n",
       "      <th>Price</th>\n",
       "      <th>Open</th>\n",
       "      <th>High</th>\n",
       "      <th>Low</th>\n",
       "      <th>Vol.</th>\n",
       "      <th>Change %</th>\n",
       "    </tr>\n",
       "  </thead>\n",
       "  <tbody>\n",
       "    <tr>\n",
       "      <th>0</th>\n",
       "      <td>03/24/2024</td>\n",
       "      <td>67,211.9</td>\n",
       "      <td>64,036.5</td>\n",
       "      <td>67,587.8</td>\n",
       "      <td>63,812.9</td>\n",
       "      <td>65.59K</td>\n",
       "      <td>4.96%</td>\n",
       "    </tr>\n",
       "    <tr>\n",
       "      <th>1</th>\n",
       "      <td>03/23/2024</td>\n",
       "      <td>64,037.8</td>\n",
       "      <td>63,785.6</td>\n",
       "      <td>65,972.4</td>\n",
       "      <td>63,074.9</td>\n",
       "      <td>35.11K</td>\n",
       "      <td>0.40%</td>\n",
       "    </tr>\n",
       "    <tr>\n",
       "      <th>2</th>\n",
       "      <td>03/22/2024</td>\n",
       "      <td>63,785.5</td>\n",
       "      <td>65,501.5</td>\n",
       "      <td>66,633.3</td>\n",
       "      <td>62,328.3</td>\n",
       "      <td>72.43K</td>\n",
       "      <td>-2.62%</td>\n",
       "    </tr>\n",
       "    <tr>\n",
       "      <th>3</th>\n",
       "      <td>03/21/2024</td>\n",
       "      <td>65,503.8</td>\n",
       "      <td>67,860.0</td>\n",
       "      <td>68,161.7</td>\n",
       "      <td>64,616.1</td>\n",
       "      <td>75.26K</td>\n",
       "      <td>-3.46%</td>\n",
       "    </tr>\n",
       "    <tr>\n",
       "      <th>4</th>\n",
       "      <td>03/20/2024</td>\n",
       "      <td>67,854.0</td>\n",
       "      <td>62,046.8</td>\n",
       "      <td>68,029.5</td>\n",
       "      <td>60,850.9</td>\n",
       "      <td>133.53K</td>\n",
       "      <td>9.35%</td>\n",
       "    </tr>\n",
       "  </tbody>\n",
       "</table>\n",
       "</div>"
      ],
      "text/plain": [
       "         Date     Price      Open      High       Low     Vol. Change %\n",
       "0  03/24/2024  67,211.9  64,036.5  67,587.8  63,812.9   65.59K    4.96%\n",
       "1  03/23/2024  64,037.8  63,785.6  65,972.4  63,074.9   35.11K    0.40%\n",
       "2  03/22/2024  63,785.5  65,501.5  66,633.3  62,328.3   72.43K   -2.62%\n",
       "3  03/21/2024  65,503.8  67,860.0  68,161.7  64,616.1   75.26K   -3.46%\n",
       "4  03/20/2024  67,854.0  62,046.8  68,029.5  60,850.9  133.53K    9.35%"
      ]
     },
     "execution_count": 41,
     "metadata": {},
     "output_type": "execute_result"
    }
   ],
   "source": [
    "print(\"Shape of the Dataset:\",df.shape)\n",
    "#the head method displays the first 5 rows of the data\n",
    "df.head(5)  "
   ]
  },
  {
   "cell_type": "code",
   "execution_count": 42,
   "metadata": {},
   "outputs": [
    {
     "data": {
      "text/plain": [
       "Date        object\n",
       "Price       object\n",
       "Open        object\n",
       "High        object\n",
       "Low         object\n",
       "Vol.        object\n",
       "Change %    object\n",
       "dtype: object"
      ]
     },
     "execution_count": 42,
     "metadata": {},
     "output_type": "execute_result"
    }
   ],
   "source": [
    "df.dtypes"
   ]
  },
  {
   "cell_type": "code",
   "execution_count": 43,
   "metadata": {},
   "outputs": [
    {
     "name": "stdout",
     "output_type": "stream",
     "text": [
      "Shape of the Scrubbed: (4999, 7)\n"
     ]
    },
    {
     "data": {
      "text/html": [
       "<div>\n",
       "<style scoped>\n",
       "    .dataframe tbody tr th:only-of-type {\n",
       "        vertical-align: middle;\n",
       "    }\n",
       "\n",
       "    .dataframe tbody tr th {\n",
       "        vertical-align: top;\n",
       "    }\n",
       "\n",
       "    .dataframe thead th {\n",
       "        text-align: right;\n",
       "    }\n",
       "</style>\n",
       "<table border=\"1\" class=\"dataframe\">\n",
       "  <thead>\n",
       "    <tr style=\"text-align: right;\">\n",
       "      <th></th>\n",
       "      <th>Date</th>\n",
       "      <th>Price</th>\n",
       "      <th>Open</th>\n",
       "      <th>High</th>\n",
       "      <th>Low</th>\n",
       "      <th>Vol.</th>\n",
       "      <th>Change %</th>\n",
       "    </tr>\n",
       "  </thead>\n",
       "  <tbody>\n",
       "    <tr>\n",
       "      <th>0</th>\n",
       "      <td>03/24/2024</td>\n",
       "      <td>67,211.9</td>\n",
       "      <td>64,036.5</td>\n",
       "      <td>67,587.8</td>\n",
       "      <td>63,812.9</td>\n",
       "      <td>65.59K</td>\n",
       "      <td>4.96%</td>\n",
       "    </tr>\n",
       "    <tr>\n",
       "      <th>1</th>\n",
       "      <td>03/23/2024</td>\n",
       "      <td>64,037.8</td>\n",
       "      <td>63,785.6</td>\n",
       "      <td>65,972.4</td>\n",
       "      <td>63,074.9</td>\n",
       "      <td>35.11K</td>\n",
       "      <td>0.40%</td>\n",
       "    </tr>\n",
       "    <tr>\n",
       "      <th>2</th>\n",
       "      <td>03/22/2024</td>\n",
       "      <td>63,785.5</td>\n",
       "      <td>65,501.5</td>\n",
       "      <td>66,633.3</td>\n",
       "      <td>62,328.3</td>\n",
       "      <td>72.43K</td>\n",
       "      <td>-2.62%</td>\n",
       "    </tr>\n",
       "    <tr>\n",
       "      <th>3</th>\n",
       "      <td>03/21/2024</td>\n",
       "      <td>65,503.8</td>\n",
       "      <td>67,860.0</td>\n",
       "      <td>68,161.7</td>\n",
       "      <td>64,616.1</td>\n",
       "      <td>75.26K</td>\n",
       "      <td>-3.46%</td>\n",
       "    </tr>\n",
       "    <tr>\n",
       "      <th>4</th>\n",
       "      <td>03/20/2024</td>\n",
       "      <td>67,854.0</td>\n",
       "      <td>62,046.8</td>\n",
       "      <td>68,029.5</td>\n",
       "      <td>60,850.9</td>\n",
       "      <td>133.53K</td>\n",
       "      <td>9.35%</td>\n",
       "    </tr>\n",
       "  </tbody>\n",
       "</table>\n",
       "</div>"
      ],
      "text/plain": [
       "         Date     Price      Open      High       Low     Vol. Change %\n",
       "0  03/24/2024  67,211.9  64,036.5  67,587.8  63,812.9   65.59K    4.96%\n",
       "1  03/23/2024  64,037.8  63,785.6  65,972.4  63,074.9   35.11K    0.40%\n",
       "2  03/22/2024  63,785.5  65,501.5  66,633.3  62,328.3   72.43K   -2.62%\n",
       "3  03/21/2024  65,503.8  67,860.0  68,161.7  64,616.1   75.26K   -3.46%\n",
       "4  03/20/2024  67,854.0  62,046.8  68,029.5  60,850.9  133.53K    9.35%"
      ]
     },
     "execution_count": 43,
     "metadata": {},
     "output_type": "execute_result"
    }
   ],
   "source": [
    "scrubbed_df = df.copy()\n",
    "scrubbed_df.dtypes\n",
    "print(\"Shape of the Scrubbed:\",scrubbed_df.shape)\n",
    "#the head method displays the first 5 rows of the data\n",
    "scrubbed_df.head(5)  "
   ]
  },
  {
   "cell_type": "code",
   "execution_count": 44,
   "metadata": {},
   "outputs": [
    {
     "name": "stdout",
     "output_type": "stream",
     "text": [
      "Shape of the Scrubbed: (4999, 7)\n"
     ]
    },
    {
     "data": {
      "text/html": [
       "<div>\n",
       "<style scoped>\n",
       "    .dataframe tbody tr th:only-of-type {\n",
       "        vertical-align: middle;\n",
       "    }\n",
       "\n",
       "    .dataframe tbody tr th {\n",
       "        vertical-align: top;\n",
       "    }\n",
       "\n",
       "    .dataframe thead th {\n",
       "        text-align: right;\n",
       "    }\n",
       "</style>\n",
       "<table border=\"1\" class=\"dataframe\">\n",
       "  <thead>\n",
       "    <tr style=\"text-align: right;\">\n",
       "      <th></th>\n",
       "      <th>Date</th>\n",
       "      <th>Price</th>\n",
       "      <th>Open</th>\n",
       "      <th>High</th>\n",
       "      <th>Low</th>\n",
       "      <th>Vol.</th>\n",
       "      <th>Change %</th>\n",
       "    </tr>\n",
       "  </thead>\n",
       "  <tbody>\n",
       "    <tr>\n",
       "      <th>0</th>\n",
       "      <td>2024-03-24</td>\n",
       "      <td>67,211.9</td>\n",
       "      <td>64,036.5</td>\n",
       "      <td>67,587.8</td>\n",
       "      <td>63,812.9</td>\n",
       "      <td>65.59K</td>\n",
       "      <td>4.96%</td>\n",
       "    </tr>\n",
       "    <tr>\n",
       "      <th>1</th>\n",
       "      <td>2024-03-23</td>\n",
       "      <td>64,037.8</td>\n",
       "      <td>63,785.6</td>\n",
       "      <td>65,972.4</td>\n",
       "      <td>63,074.9</td>\n",
       "      <td>35.11K</td>\n",
       "      <td>0.40%</td>\n",
       "    </tr>\n",
       "    <tr>\n",
       "      <th>2</th>\n",
       "      <td>2024-03-22</td>\n",
       "      <td>63,785.5</td>\n",
       "      <td>65,501.5</td>\n",
       "      <td>66,633.3</td>\n",
       "      <td>62,328.3</td>\n",
       "      <td>72.43K</td>\n",
       "      <td>-2.62%</td>\n",
       "    </tr>\n",
       "    <tr>\n",
       "      <th>3</th>\n",
       "      <td>2024-03-21</td>\n",
       "      <td>65,503.8</td>\n",
       "      <td>67,860.0</td>\n",
       "      <td>68,161.7</td>\n",
       "      <td>64,616.1</td>\n",
       "      <td>75.26K</td>\n",
       "      <td>-3.46%</td>\n",
       "    </tr>\n",
       "    <tr>\n",
       "      <th>4</th>\n",
       "      <td>2024-03-20</td>\n",
       "      <td>67,854.0</td>\n",
       "      <td>62,046.8</td>\n",
       "      <td>68,029.5</td>\n",
       "      <td>60,850.9</td>\n",
       "      <td>133.53K</td>\n",
       "      <td>9.35%</td>\n",
       "    </tr>\n",
       "  </tbody>\n",
       "</table>\n",
       "</div>"
      ],
      "text/plain": [
       "        Date     Price      Open      High       Low     Vol. Change %\n",
       "0 2024-03-24  67,211.9  64,036.5  67,587.8  63,812.9   65.59K    4.96%\n",
       "1 2024-03-23  64,037.8  63,785.6  65,972.4  63,074.9   35.11K    0.40%\n",
       "2 2024-03-22  63,785.5  65,501.5  66,633.3  62,328.3   72.43K   -2.62%\n",
       "3 2024-03-21  65,503.8  67,860.0  68,161.7  64,616.1   75.26K   -3.46%\n",
       "4 2024-03-20  67,854.0  62,046.8  68,029.5  60,850.9  133.53K    9.35%"
      ]
     },
     "execution_count": 44,
     "metadata": {},
     "output_type": "execute_result"
    }
   ],
   "source": [
    "scrubbed_df[\"Date\"] = pd.to_datetime(scrubbed_df[\"Date\"])\n",
    "print(\"Shape of the Scrubbed:\",scrubbed_df.shape)\n",
    "#the head method displays the first 5 rows of the data\n",
    "scrubbed_df.head(5)  "
   ]
  },
  {
   "cell_type": "code",
   "execution_count": 45,
   "metadata": {},
   "outputs": [
    {
     "name": "stdout",
     "output_type": "stream",
     "text": [
      "        Date     Price      Open      High       Low     Vol. Change %  \\\n",
      "0 2024-03-24  67,211.9  64,036.5  67,587.8  63,812.9   65.59K    4.96%   \n",
      "1 2024-03-23  64,037.8  63,785.6  65,972.4  63,074.9   35.11K    0.40%   \n",
      "2 2024-03-22  63,785.5  65,501.5  66,633.3  62,328.3   72.43K   -2.62%   \n",
      "3 2024-03-21  65,503.8  67,860.0  68,161.7  64,616.1   75.26K   -3.46%   \n",
      "4 2024-03-20  67,854.0  62,046.8  68,029.5  60,850.9  133.53K    9.35%   \n",
      "\n",
      "   YearDay  MonthDay  WeekDay  \n",
      "0       84        24        6  \n",
      "1       83        23        5  \n",
      "2       82        22        4  \n",
      "3       81        21        3  \n",
      "4       80        20        2  \n"
     ]
    }
   ],
   "source": [
    "scrubbed_df[\"YearDay\"] = scrubbed_df[\"Date\"].dt.day_of_year\n",
    "scrubbed_df[\"MonthDay\"] = scrubbed_df[\"Date\"].dt.day\n",
    "scrubbed_df[\"WeekDay\"] = scrubbed_df[\"Date\"].dt.weekday\n",
    "\n",
    "\n",
    "#Using the head command to view (only) the data and the newly engineered features\n",
    "print(scrubbed_df.head())"
   ]
  },
  {
   "cell_type": "code",
   "execution_count": 46,
   "metadata": {},
   "outputs": [
    {
     "name": "stdout",
     "output_type": "stream",
     "text": [
      "        Date    Price     Open      High       Low     Vol. Change %  YearDay  \\\n",
      "0 2024-03-24  67211.9  64036.5  67,587.8  63,812.9   65.59K    4.96%       84   \n",
      "1 2024-03-23  64037.8  63785.6  65,972.4  63,074.9   35.11K    0.40%       83   \n",
      "2 2024-03-22  63785.5  65501.5  66,633.3  62,328.3   72.43K   -2.62%       82   \n",
      "3 2024-03-21  65503.8  67860.0  68,161.7  64,616.1   75.26K   -3.46%       81   \n",
      "4 2024-03-20  67854.0  62046.8  68,029.5  60,850.9  133.53K    9.35%       80   \n",
      "\n",
      "   MonthDay  WeekDay  \n",
      "0        24        6  \n",
      "1        23        5  \n",
      "2        22        4  \n",
      "3        21        3  \n",
      "4        20        2  \n"
     ]
    }
   ],
   "source": [
    "scrubbed_df[\"Price\"] = scrubbed_df[\"Price\"].str.replace(\",\",\"\")\n",
    "scrubbed_df[\"Open\"]  = scrubbed_df[\"Open\"].str.replace(\",\",\"\")\n",
    "print(scrubbed_df.head())"
   ]
  },
  {
   "cell_type": "code",
   "execution_count": 47,
   "metadata": {},
   "outputs": [
    {
     "name": "stdout",
     "output_type": "stream",
     "text": [
      "        Date    Price     Open      High       Low     Vol. Change %  YearDay  \\\n",
      "0 2024-03-24  67211.9  64036.5  67,587.8  63,812.9   65.59K    4.96%       84   \n",
      "1 2024-03-23  64037.8  63785.6  65,972.4  63,074.9   35.11K    0.40%       83   \n",
      "2 2024-03-22  63785.5  65501.5  66,633.3  62,328.3   72.43K   -2.62%       82   \n",
      "3 2024-03-21  65503.8  67860.0  68,161.7  64,616.1   75.26K   -3.46%       81   \n",
      "4 2024-03-20  67854.0  62046.8  68,029.5  60,850.9  133.53K    9.35%       80   \n",
      "\n",
      "   MonthDay  WeekDay  Mean Price  \n",
      "0        24        6     65624.2  \n",
      "1        23        5     63911.7  \n",
      "2        22        4     64643.5  \n",
      "3        21        3     66681.9  \n",
      "4        20        2     64950.4  \n"
     ]
    }
   ],
   "source": [
    "scrubbed_df[\"Price\"] = pd.to_numeric(scrubbed_df[\"Price\"])\n",
    "scrubbed_df[\"Open\"] = pd.to_numeric(scrubbed_df[\"Open\"])\n",
    "scrubbed_df[\"Mean Price\"] = scrubbed_df[[\"Price\",\"Open\"]].mean(axis=1)\n",
    "print(scrubbed_df.head())"
   ]
  },
  {
   "cell_type": "code",
   "execution_count": 48,
   "metadata": {},
   "outputs": [
    {
     "name": "stdout",
     "output_type": "stream",
     "text": [
      "   YearDay  MonthDay  WeekDay  Mean Price\n",
      "0       84        24        6     65624.2\n",
      "1       83        23        5     63911.7\n",
      "2       82        22        4     64643.5\n",
      "3       81        21        3     66681.9\n",
      "4       80        20        2     64950.4\n"
     ]
    }
   ],
   "source": [
    "scrubbed_df.drop([\"Date\",\"Price\",\"Open\",\"High\",\"Low\",\"Vol.\",\"Change %\"],axis=1,inplace=True)\n",
    "print(scrubbed_df.head())"
   ]
  },
  {
   "cell_type": "code",
   "execution_count": 49,
   "metadata": {},
   "outputs": [
    {
     "name": "stdout",
     "output_type": "stream",
     "text": [
      "         MonthDay  WeekDay  Mean Price\n",
      "YearDay                               \n",
      "1               1        0    43227.95\n",
      "1               1        4    29155.80\n",
      "1               1        6    16577.95\n",
      "1               1        5        0.30\n",
      "1               1        6      979.40\n",
      "...           ...      ...         ...\n",
      "7               7        5      887.55\n",
      "7               7        3      443.90\n",
      "7               7        4        0.30\n",
      "8               8        6      894.90\n",
      "8               8        1     3978.40\n",
      "\n",
      "[100 rows x 3 columns]\n"
     ]
    }
   ],
   "source": [
    "scrubbed_df.set_index('YearDay', inplace=True)\n",
    "scrubbed_df.sort_index(inplace=True)\n",
    "# scrubbed_df.sort_values(by=['YearDay'],ascending=False,inplace=True)\n",
    "print(scrubbed_df.head(100))"
   ]
  },
  {
   "cell_type": "code",
   "execution_count": 50,
   "metadata": {},
   "outputs": [],
   "source": [
    "x = scrubbed_df[[\"MonthDay\",\"WeekDay\"]]\n",
    "y = scrubbed_df[['Mean Price']]"
   ]
  },
  {
   "cell_type": "code",
   "execution_count": 51,
   "metadata": {},
   "outputs": [
    {
     "data": {
      "text/plain": [
       "MonthDay    int32\n",
       "WeekDay     int32\n",
       "dtype: object"
      ]
     },
     "execution_count": 51,
     "metadata": {},
     "output_type": "execute_result"
    }
   ],
   "source": [
    "x.head()\n",
    "# x.shape\n",
    "x.dtypes"
   ]
  },
  {
   "cell_type": "code",
   "execution_count": 52,
   "metadata": {},
   "outputs": [
    {
     "data": {
      "text/plain": [
       "Mean Price    float64\n",
       "dtype: object"
      ]
     },
     "execution_count": 52,
     "metadata": {},
     "output_type": "execute_result"
    }
   ],
   "source": [
    "y.head()\n",
    "# y.shape\n",
    "y.dtypes"
   ]
  },
  {
   "cell_type": "code",
   "execution_count": 53,
   "metadata": {},
   "outputs": [],
   "source": [
    "from sklearn.model_selection import TimeSeriesSplit\n",
    "tss = TimeSeriesSplit(n_splits = 3)"
   ]
  },
  {
   "cell_type": "code",
   "execution_count": 54,
   "metadata": {},
   "outputs": [
    {
     "data": {
      "text/plain": [
       "<bound method _BaseKFold.get_n_splits of TimeSeriesSplit(gap=0, max_train_size=None, n_splits=3, test_size=None)>"
      ]
     },
     "execution_count": 54,
     "metadata": {},
     "output_type": "execute_result"
    }
   ],
   "source": [
    "tss.get_n_splits"
   ]
  },
  {
   "cell_type": "code",
   "execution_count": 55,
   "metadata": {},
   "outputs": [
    {
     "name": "stdout",
     "output_type": "stream",
     "text": [
      "train_index [   0    1    2 ... 1249 1250 1251]\n",
      "test_index [1252 1253 1254 ... 2498 2499 2500]\n",
      "train_index [   0    1    2 ... 2498 2499 2500]\n",
      "test_index [2501 2502 2503 ... 3747 3748 3749]\n",
      "train_index [   0    1    2 ... 3747 3748 3749]\n",
      "test_index [3750 3751 3752 ... 4996 4997 4998]\n"
     ]
    }
   ],
   "source": [
    "for train_index, test_index in tss.split(x):\n",
    "    x_train, x_test = x.iloc[train_index, :], x.iloc[test_index,:]\n",
    "    y_train, y_test = y.iloc[train_index], y.iloc[test_index]\n",
    "    print(\"train_index\",train_index)\n",
    "    print(\"test_index\",test_index)\n"
   ]
  },
  {
   "cell_type": "code",
   "execution_count": 56,
   "metadata": {},
   "outputs": [
    {
     "data": {
      "text/plain": [
       "Index([  1,   1,   1,   1,   1,   1,   1,   1,   1,   1,\n",
       "       ...\n",
       "       276, 276, 276, 276, 276, 276, 276, 276, 276, 276],\n",
       "      dtype='int32', name='YearDay', length=3750)"
      ]
     },
     "execution_count": 56,
     "metadata": {},
     "output_type": "execute_result"
    }
   ],
   "source": [
    "x_train.index"
   ]
  },
  {
   "cell_type": "code",
   "execution_count": 57,
   "metadata": {},
   "outputs": [
    {
     "data": {
      "text/plain": [
       "Index([277, 277, 277, 277, 277, 277, 277, 277, 277, 277,\n",
       "       ...\n",
       "       365, 365, 365, 365, 365, 365, 365, 366, 366, 366],\n",
       "      dtype='int32', name='YearDay', length=1249)"
      ]
     },
     "execution_count": 57,
     "metadata": {},
     "output_type": "execute_result"
    }
   ],
   "source": [
    "x_test.index"
   ]
  },
  {
   "cell_type": "code",
   "execution_count": 58,
   "metadata": {},
   "outputs": [
    {
     "data": {
      "text/plain": [
       "<Axes: xlabel='YearDay'>"
      ]
     },
     "execution_count": 58,
     "metadata": {},
     "output_type": "execute_result"
    },
    {
     "data": {
      "image/png": "[encoded data removed]",
      "text/plain": [
       "<Figure size 640x480 with 1 Axes>"
      ]
     },
     "metadata": {},
     "output_type": "display_data"
    }
   ],
   "source": [
    "def price2num(x):\n",
    "    if type(x) == str: \n",
    "        x = x.strip('$').replace(',', '')\n",
    "    return float(x)#function to convert price from string to floats\n",
    "y_train_val=y_train[\"Mean Price\"].apply(price2num)\n",
    "y_train_val.groupby('YearDay').mean().plot()\n",
    "y_test_val=y_test[\"Mean Price\"].apply(price2num)\n",
    "y_test_val.groupby('YearDay').mean().plot()"
   ]
  },
  {
   "cell_type": "code",
   "execution_count": 59,
   "metadata": {},
   "outputs": [
    {
     "data": {
      "text/plain": [
       "MonthDay        int32\n",
       "WeekDay         int32\n",
       "Mean Price    float64\n",
       "dtype: object"
      ]
     },
     "execution_count": 59,
     "metadata": {},
     "output_type": "execute_result"
    }
   ],
   "source": [
    "scrubbed_df.dtypes"
   ]
  },
  {
   "cell_type": "code",
   "execution_count": 60,
   "metadata": {},
   "outputs": [
    {
     "data": {
      "text/plain": [
       "(3750, 2)"
      ]
     },
     "execution_count": 60,
     "metadata": {},
     "output_type": "execute_result"
    }
   ],
   "source": [
    "x_train.shape"
   ]
  },
  {
   "cell_type": "code",
   "execution_count": 61,
   "metadata": {},
   "outputs": [
    {
     "data": {
      "text/plain": [
       "(3750, 1)"
      ]
     },
     "execution_count": 61,
     "metadata": {},
     "output_type": "execute_result"
    }
   ],
   "source": [
    "y_train.shape"
   ]
  },
  {
   "cell_type": "code",
   "execution_count": 62,
   "metadata": {},
   "outputs": [
    {
     "name": "stdout",
     "output_type": "stream",
     "text": [
      "Shape of x_train: (3750, 2)\n",
      "Shape of x_test: (1249, 2)\n",
      "Shape of y_train: (3750, 1)\n",
      "Shape of y_test: (1249, 1)\n"
     ]
    }
   ],
   "source": [
    "# #Create train and test dataset with an 80:20 split\n",
    "# x_train, x_test, y_train, y_test = train_test_split(scrubbed_df[[\"Month\",\"Quarter\",\"Day\",\"WeekDay\"]],scrubbed_df[[\"Mean Price\"]],test_size=0.2,random_state=2018)\n",
    "# #Further divide training dataset into train and validation dataset with an 90:10 split\n",
    "# x_train, x_val, y_train, y_val = train_test_split(x_train,y_train,test_size=0.1,random_state=2018)\n",
    "\n",
    "#Check the sizes of all newly created datasets\n",
    "print(\"Shape of x_train:\",x_train.shape)\n",
    "# print(\"Shape of x_val:\",x_val.shape)\n",
    "print(\"Shape of x_test:\",x_test.shape)\n",
    "print(\"Shape of y_train:\",y_train.shape)\n",
    "# print(\"Shape of y_val:\",y_val.shape)\n",
    "print(\"Shape of y_test:\",y_test.shape)"
   ]
  },
  {
   "cell_type": "code",
   "execution_count": 63,
   "metadata": {},
   "outputs": [
    {
     "data": {
      "text/html": [
       "<div>\n",
       "<style scoped>\n",
       "    .dataframe tbody tr th:only-of-type {\n",
       "        vertical-align: middle;\n",
       "    }\n",
       "\n",
       "    .dataframe tbody tr th {\n",
       "        vertical-align: top;\n",
       "    }\n",
       "\n",
       "    .dataframe thead th {\n",
       "        text-align: right;\n",
       "    }\n",
       "</style>\n",
       "<table border=\"1\" class=\"dataframe\">\n",
       "  <thead>\n",
       "    <tr style=\"text-align: right;\">\n",
       "      <th></th>\n",
       "      <th>MonthDay</th>\n",
       "      <th>WeekDay</th>\n",
       "    </tr>\n",
       "    <tr>\n",
       "      <th>YearDay</th>\n",
       "      <th></th>\n",
       "      <th></th>\n",
       "    </tr>\n",
       "  </thead>\n",
       "  <tbody>\n",
       "    <tr>\n",
       "      <th>1</th>\n",
       "      <td>1</td>\n",
       "      <td>0</td>\n",
       "    </tr>\n",
       "    <tr>\n",
       "      <th>1</th>\n",
       "      <td>1</td>\n",
       "      <td>4</td>\n",
       "    </tr>\n",
       "    <tr>\n",
       "      <th>1</th>\n",
       "      <td>1</td>\n",
       "      <td>6</td>\n",
       "    </tr>\n",
       "    <tr>\n",
       "      <th>1</th>\n",
       "      <td>1</td>\n",
       "      <td>5</td>\n",
       "    </tr>\n",
       "    <tr>\n",
       "      <th>1</th>\n",
       "      <td>1</td>\n",
       "      <td>6</td>\n",
       "    </tr>\n",
       "    <tr>\n",
       "      <th>...</th>\n",
       "      <td>...</td>\n",
       "      <td>...</td>\n",
       "    </tr>\n",
       "    <tr>\n",
       "      <th>7</th>\n",
       "      <td>7</td>\n",
       "      <td>5</td>\n",
       "    </tr>\n",
       "    <tr>\n",
       "      <th>7</th>\n",
       "      <td>7</td>\n",
       "      <td>3</td>\n",
       "    </tr>\n",
       "    <tr>\n",
       "      <th>7</th>\n",
       "      <td>7</td>\n",
       "      <td>4</td>\n",
       "    </tr>\n",
       "    <tr>\n",
       "      <th>8</th>\n",
       "      <td>8</td>\n",
       "      <td>6</td>\n",
       "    </tr>\n",
       "    <tr>\n",
       "      <th>8</th>\n",
       "      <td>8</td>\n",
       "      <td>1</td>\n",
       "    </tr>\n",
       "  </tbody>\n",
       "</table>\n",
       "<p>100 rows × 2 columns</p>\n",
       "</div>"
      ],
      "text/plain": [
       "         MonthDay  WeekDay\n",
       "YearDay                   \n",
       "1               1        0\n",
       "1               1        4\n",
       "1               1        6\n",
       "1               1        5\n",
       "1               1        6\n",
       "...           ...      ...\n",
       "7               7        5\n",
       "7               7        3\n",
       "7               7        4\n",
       "8               8        6\n",
       "8               8        1\n",
       "\n",
       "[100 rows x 2 columns]"
      ]
     },
     "execution_count": 63,
     "metadata": {},
     "output_type": "execute_result"
    }
   ],
   "source": [
    "x_train.head(100)\n"
   ]
  },
  {
   "cell_type": "code",
   "execution_count": 64,
   "metadata": {},
   "outputs": [
    {
     "data": {
      "text/html": [
       "<div>\n",
       "<style scoped>\n",
       "    .dataframe tbody tr th:only-of-type {\n",
       "        vertical-align: middle;\n",
       "    }\n",
       "\n",
       "    .dataframe tbody tr th {\n",
       "        vertical-align: top;\n",
       "    }\n",
       "\n",
       "    .dataframe thead th {\n",
       "        text-align: right;\n",
       "    }\n",
       "</style>\n",
       "<table border=\"1\" class=\"dataframe\">\n",
       "  <thead>\n",
       "    <tr style=\"text-align: right;\">\n",
       "      <th></th>\n",
       "      <th>Mean Price</th>\n",
       "    </tr>\n",
       "    <tr>\n",
       "      <th>YearDay</th>\n",
       "      <th></th>\n",
       "    </tr>\n",
       "  </thead>\n",
       "  <tbody>\n",
       "    <tr>\n",
       "      <th>1</th>\n",
       "      <td>43227.95</td>\n",
       "    </tr>\n",
       "    <tr>\n",
       "      <th>1</th>\n",
       "      <td>29155.80</td>\n",
       "    </tr>\n",
       "    <tr>\n",
       "      <th>1</th>\n",
       "      <td>16577.95</td>\n",
       "    </tr>\n",
       "    <tr>\n",
       "      <th>1</th>\n",
       "      <td>0.30</td>\n",
       "    </tr>\n",
       "    <tr>\n",
       "      <th>1</th>\n",
       "      <td>979.40</td>\n",
       "    </tr>\n",
       "  </tbody>\n",
       "</table>\n",
       "</div>"
      ],
      "text/plain": [
       "         Mean Price\n",
       "YearDay            \n",
       "1          43227.95\n",
       "1          29155.80\n",
       "1          16577.95\n",
       "1              0.30\n",
       "1            979.40"
      ]
     },
     "execution_count": 64,
     "metadata": {},
     "output_type": "execute_result"
    }
   ],
   "source": [
    "y_train.head()"
   ]
  },
  {
   "cell_type": "code",
   "execution_count": 65,
   "metadata": {},
   "outputs": [
    {
     "name": "stderr",
     "output_type": "stream",
     "text": [
      "C:\\Users\\Clone\\AppData\\Roaming\\Python\\Python312\\site-packages\\keras\\src\\layers\\core\\dense.py:87: UserWarning: Do not pass an `input_shape`/`input_dim` argument to a layer. When using Sequential models, prefer using an `Input(shape)` object as the first layer in the model instead.\n",
      "  super().__init__(activity_regularizer=activity_regularizer, **kwargs)\n"
     ]
    },
    {
     "name": "stdout",
     "output_type": "stream",
     "text": [
      "Epoch 1/15\n",
      "\u001b[1m375/375\u001b[0m \u001b[32m━━━━━━━━━━━━━━━━━━━━\u001b[0m\u001b[37m\u001b[0m \u001b[1m12s\u001b[0m 16ms/step - loss: 10922.9990 - mean_absolute_error: 10922.9990\n",
      "Epoch 2/15\n",
      "\u001b[1m375/375\u001b[0m \u001b[32m━━━━━━━━━━━━━━━━━━━━\u001b[0m\u001b[37m\u001b[0m \u001b[1m6s\u001b[0m 17ms/step - loss: 10403.0254 - mean_absolute_error: 10403.0254\n",
      "Epoch 3/15\n",
      "\u001b[1m375/375\u001b[0m \u001b[32m━━━━━━━━━━━━━━━━━━━━\u001b[0m\u001b[37m\u001b[0m \u001b[1m6s\u001b[0m 17ms/step - loss: 10491.6904 - mean_absolute_error: 10491.6904\n",
      "Epoch 4/15\n",
      "\u001b[1m375/375\u001b[0m \u001b[32m━━━━━━━━━━━━━━━━━━━━\u001b[0m\u001b[37m\u001b[0m \u001b[1m6s\u001b[0m 16ms/step - loss: 10708.2207 - mean_absolute_error: 10708.2207\n",
      "Epoch 5/15\n",
      "\u001b[1m375/375\u001b[0m \u001b[32m━━━━━━━━━━━━━━━━━━━━\u001b[0m\u001b[37m\u001b[0m \u001b[1m7s\u001b[0m 17ms/step - loss: 10195.1982 - mean_absolute_error: 10195.1982\n",
      "Epoch 6/15\n",
      "\u001b[1m375/375\u001b[0m \u001b[32m━━━━━━━━━━━━━━━━━━━━\u001b[0m\u001b[37m\u001b[0m \u001b[1m11s\u001b[0m 18ms/step - loss: 10813.6143 - mean_absolute_error: 10813.6143\n",
      "Epoch 7/15\n",
      "\u001b[1m375/375\u001b[0m \u001b[32m━━━━━━━━━━━━━━━━━━━━\u001b[0m\u001b[37m\u001b[0m \u001b[1m6s\u001b[0m 17ms/step - loss: 10977.0576 - mean_absolute_error: 10977.0576\n",
      "Epoch 8/15\n",
      "\u001b[1m375/375\u001b[0m \u001b[32m━━━━━━━━━━━━━━━━━━━━\u001b[0m\u001b[37m\u001b[0m \u001b[1m7s\u001b[0m 18ms/step - loss: 10474.6904 - mean_absolute_error: 10474.6904\n",
      "Epoch 9/15\n",
      "\u001b[1m375/375\u001b[0m \u001b[32m━━━━━━━━━━━━━━━━━━━━\u001b[0m\u001b[37m\u001b[0m \u001b[1m7s\u001b[0m 18ms/step - loss: 10396.2217 - mean_absolute_error: 10396.2217\n",
      "Epoch 10/15\n",
      "\u001b[1m375/375\u001b[0m \u001b[32m━━━━━━━━━━━━━━━━━━━━\u001b[0m\u001b[37m\u001b[0m \u001b[1m6s\u001b[0m 17ms/step - loss: 10436.7686 - mean_absolute_error: 10436.7686\n",
      "Epoch 11/15\n",
      "\u001b[1m375/375\u001b[0m \u001b[32m━━━━━━━━━━━━━━━━━━━━\u001b[0m\u001b[37m\u001b[0m \u001b[1m7s\u001b[0m 19ms/step - loss: 10252.4092 - mean_absolute_error: 10252.4092\n",
      "Epoch 12/15\n",
      "\u001b[1m375/375\u001b[0m \u001b[32m━━━━━━━━━━━━━━━━━━━━\u001b[0m\u001b[37m\u001b[0m \u001b[1m7s\u001b[0m 18ms/step - loss: 10269.5361 - mean_absolute_error: 10269.5361\n",
      "Epoch 13/15\n",
      "\u001b[1m375/375\u001b[0m \u001b[32m━━━━━━━━━━━━━━━━━━━━\u001b[0m\u001b[37m\u001b[0m \u001b[1m6s\u001b[0m 17ms/step - loss: 10703.2656 - mean_absolute_error: 10703.2656\n",
      "Epoch 14/15\n",
      "\u001b[1m375/375\u001b[0m \u001b[32m━━━━━━━━━━━━━━━━━━━━\u001b[0m\u001b[37m\u001b[0m \u001b[1m6s\u001b[0m 17ms/step - loss: 10709.0840 - mean_absolute_error: 10709.0840\n",
      "Epoch 15/15\n",
      "\u001b[1m375/375\u001b[0m \u001b[32m━━━━━━━━━━━━━━━━━━━━\u001b[0m\u001b[37m\u001b[0m \u001b[1m7s\u001b[0m 18ms/step - loss: 10055.2402 - mean_absolute_error: 10055.2402\n"
     ]
    },
    {
     "data": {
      "text/plain": [
       "<keras.src.callbacks.history.History at 0x2092422dd00>"
      ]
     },
     "execution_count": 65,
     "metadata": {},
     "output_type": "execute_result"
    }
   ],
   "source": [
    "#Create Deep Neural Network Architecture\n",
    "from keras import Sequential\n",
    "from keras.layers import Dense\n",
    "\n",
    "model = Sequential()\n",
    "model.add(Dense(350,input_dim = 2,activation=\"relu\"))\n",
    "model.add(Dense(350,activation=\"relu\"))\n",
    "model.add(Dense(350,activation=\"relu\"))\n",
    "model.add(Dense(350,activation=\"relu\"))\n",
    "model.add(Dense(350,activation=\"relu\"))\n",
    "model.add(Dense(350,activation=\"relu\"))\n",
    "model.add(Dense(350,activation=\"relu\"))\n",
    "model.add(Dense(350,activation=\"relu\"))\n",
    "model.add(Dense(350,activation=\"relu\"))\n",
    "model.add(Dense(350,activation=\"relu\"))\n",
    "model.add(Dense(350,activation=\"relu\"))\n",
    "model.add(Dense(350,activation=\"relu\"))\n",
    "model.add(Dense(350,activation=\"relu\"))\n",
    "\n",
    "model.add(Dense(1,activation = \"linear\"))\n",
    "\n",
    "#Configure the model\n",
    "model.compile(optimizer='adam', loss=\"mean_absolute_error\", \n",
    "metrics=[\"mean_absolute_error\"])\n",
    "\n",
    "#Train the model\n",
    "model.fit(x_train,y_train,epochs=15,batch_size=10)"
   ]
  },
  {
   "cell_type": "code",
   "execution_count": 66,
   "metadata": {},
   "outputs": [
    {
     "name": "stdout",
     "output_type": "stream",
     "text": [
      "\u001b[1m40/40\u001b[0m \u001b[32m━━━━━━━━━━━━━━━━━━━━\u001b[0m\u001b[37m\u001b[0m \u001b[1m1s\u001b[0m 13ms/step\n",
      "         Mean Price   Prediction\n",
      "YearDay                         \n",
      "277          238.45  1540.958374\n",
      "277          133.90  1540.162354\n",
      "277            5.00  1539.776367\n",
      "277        48713.85  1539.613403\n",
      "277        27609.80  1539.913086\n",
      "277          611.15  1539.679810\n",
      "277        10558.20  1540.970459\n",
      "277         6546.70  1540.017822\n",
      "277         4266.45  1539.913086\n",
      "277        19984.95  1539.776367\n"
     ]
    },
    {
     "name": "stderr",
     "output_type": "stream",
     "text": [
      "C:\\Users\\Clone\\AppData\\Local\\Temp\\ipykernel_13028\\195181267.py:2: SettingWithCopyWarning: \n",
      "A value is trying to be set on a copy of a slice from a DataFrame.\n",
      "Try using .loc[row_indexer,col_indexer] = value instead\n",
      "\n",
      "See the caveats in the documentation: https://pandas.pydata.org/pandas-docs/stable/user_guide/indexing.html#returning-a-view-versus-a-copy\n",
      "  y_test[\"Prediction\"] = model.predict(x_test)\n"
     ]
    }
   ],
   "source": [
    "#Manually predicting from the model, instead of using model's evaluate function\n",
    "y_test[\"Prediction\"] = model.predict(x_test)\n",
    "# y_test.columns = [\"Actual Price\",\"Predicted Price\"]\n",
    "print(y_test.head(10))"
   ]
  },
  {
   "cell_type": "code",
   "execution_count": 67,
   "metadata": {},
   "outputs": [
    {
     "data": {
      "image/png": "[encoded data removed]",
      "text/plain": [
       "<Figure size 1000x600 with 1 Axes>"
      ]
     },
     "metadata": {},
     "output_type": "display_data"
    }
   ],
   "source": [
    "import pandas as pd\n",
    "import matplotlib.pyplot as plt\n",
    "\n",
    "# Plotting the line plot\n",
    "plt.figure(figsize=(10, 6))\n",
    "plt.plot(y_test.index, y_test['Mean Price'], label='Actual Price', color='blue')\n",
    "plt.plot(y_test.index, y_test['Prediction'], label='Predicted Price', color='red')\n",
    "plt.xlabel('Index')\n",
    "plt.ylabel('Price')\n",
    "plt.title('Actual vs Predicted Price')\n",
    "plt.legend()\n",
    "plt.show()\n"
   ]
  },
  {
   "cell_type": "code",
   "execution_count": null,
   "metadata": {},
   "outputs": [
    {
     "name": "stdout",
     "output_type": "stream",
     "text": [
      "\u001b[1m3/3\u001b[0m \u001b[32m━━━━━━━━━━━━━━━━━━━━\u001b[0m\u001b[37m\u001b[0m \u001b[1m0s\u001b[0m 4ms/step - loss: 30987.0156 - mean_absolute_error: 30987.0176 \n",
      "Metric  loss : 31611.58\n",
      "Metric  compile_metrics : 31611.58\n"
     ]
    }
   ],
   "source": [
    "#Use the model's evaluate method to predict and evaluate the test datasets\n",
    "result = model.evaluate(x_test,y_test)\n",
    "\n",
    "#Print the results\n",
    "for i in range(len(model.metrics_names)):\n",
    "    print(\"Metric \",model.metrics_names[i],\":\",str(round(result[i],2)))"
   ]
  }
 ],
 "metadata": {
  "kernelspec": {
   "display_name": "Python 3",
   "language": "python",
   "name": "python3"
  },
  "language_info": {
   "codemirror_mode": {
    "name": "ipython",
    "version": 3
   },
   "file_extension": ".py",
   "mimetype": "text/x-python",
   "name": "python",
   "nbconvert_exporter": "python",
   "pygments_lexer": "ipython3",
   "version": "3.12.5"
  }
 },
 "nbformat": 4,
 "nbformat_minor": 2
}
