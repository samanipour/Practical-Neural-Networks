{
 "cells": [
  {
   "cell_type": "code",
   "execution_count": 26,
   "metadata": {},
   "outputs": [
    {
     "name": "stdout",
     "output_type": "stream",
     "text": [
      "TimeSeriesSplit(gap=0, max_train_size=None, n_splits=8, test_size=None)\n",
      "i [0 1]\n",
      "k [2]\n",
      "===============\n",
      "i [0 1 2]\n",
      "k [3]\n",
      "===============\n",
      "i [0 1 2 3]\n",
      "k [4]\n",
      "===============\n",
      "i [0 1 2 3 4]\n",
      "k [5]\n",
      "===============\n",
      "i [0 1 2 3 4 5]\n",
      "k [6]\n",
      "===============\n",
      "i [0 1 2 3 4 5 6]\n",
      "k [7]\n",
      "===============\n",
      "i [0 1 2 3 4 5 6 7]\n",
      "k [8]\n",
      "===============\n",
      "i [0 1 2 3 4 5 6 7 8]\n",
      "k [9]\n",
      "===============\n"
     ]
    }
   ],
   "source": [
    "from sklearn.model_selection import TimeSeriesSplit\n",
    "import numpy as np\n",
    "\n",
    "# Sample data: time-series numbers from 0 to 9\n",
    "data = np.array([0, 1, 2, 3, 4, 5, 6, 7, 8, 9])\n",
    "\n",
    "# Create a TimeSeriesSplit object with 3 splits\n",
    "tscv = TimeSeriesSplit(n_splits=8)\n",
    "print(tscv)\n",
    "s = tscv.split(data)\n",
    "for i,k in s:\n",
    "    print(\"i\",i)\n",
    "    print(\"k\",k)\n",
    "    print(\"===============\")\n",
    "\n"
   ]
  },
  {
   "cell_type": "markdown",
   "metadata": {},
   "source": []
  }
 ],
 "metadata": {
  "kernelspec": {
   "display_name": "Python 3",
   "language": "python",
   "name": "python3"
  },
  "language_info": {
   "codemirror_mode": {
    "name": "ipython",
    "version": 3
   },
   "file_extension": ".py",
   "mimetype": "text/x-python",
   "name": "python",
   "nbconvert_exporter": "python",
   "pygments_lexer": "ipython3",
   "version": "3.12.5"
  }
 },
 "nbformat": 4,
 "nbformat_minor": 2
}
